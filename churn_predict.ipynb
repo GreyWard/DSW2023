{
 "cells": [
  {
   "cell_type": "markdown",
   "metadata": {},
   "source": [
    "# Churn Predictor\n",
    "-----------------------------------\n",
    "\n",
    "Kode untuk melakukan prediksi menggunakan model yang sudah di training sebelumnya.\n",
    "Untuk menggunakan data baru, silahkan sesuaikan format data menggunakan xlsx, dan fitur yang sama persis\n",
    "seperti data yang digunakan pada proses training.\n",
    "--------------------------------\n",
    "Tim Data Something\n",
    " DSW 2023"
   ]
  },
  {
   "cell_type": "markdown",
   "metadata": {},
   "source": [
    "## Library dan Input File"
   ]
  },
  {
   "cell_type": "code",
   "execution_count": 4,
   "metadata": {},
   "outputs": [],
   "source": [
    "import tensorflow as tf\n",
    "import pandas as pd\n",
    "import numpy as np"
   ]
  },
  {
   "cell_type": "code",
   "execution_count": 5,
   "metadata": {},
   "outputs": [],
   "source": [
    "# Masukan nama file dari dataframe ke sini\n",
    "filename = \"Telco_customer_churn_adapted_v2.xlsx\""
   ]
  },
  {
   "cell_type": "markdown",
   "metadata": {},
   "source": [
    "## Encode dan Decode\n",
    "Fungsi ini digunakan untuk meningkatkan performa pada prediksi"
   ]
  },
  {
   "cell_type": "code",
   "execution_count": 6,
   "metadata": {},
   "outputs": [],
   "source": [
    "def decode(df):\n",
    "    dfret = df\n",
    "    # Reverse Payment Method\n",
    "    df1 = dfret[[\"Debit\", \"Credit\", \"Pulsa\", \"Digital Wallet\"]]\n",
    "    # Reverse the one-hot encoding and create a new column\n",
    "    dfret[\"Payment Method\"] = df1.idxmax(axis=1)\n",
    "    dfret\n",
    "    # Reverse Device Class\n",
    "    df1 = dfret[[\"Low Device\", \"Mid Device\", \"High Device\"]]\n",
    "    # Reverse the one-hot encoding and create a new column\n",
    "    dfret[\"Device Class\"] = df1.idxmax(axis=1)\n",
    "    dfret['Device Class'].replace([\"Low Device\", \"Mid Device\", \"High Device\"],[\"Low End\", \"Mid End\", \"High End\"], inplace=True)\n",
    "    # Reverse Products\n",
    "    dfret['Games Product'].replace([0,1],['No','Yes'], inplace=True)\n",
    "    dfret['Video Product'].replace([0,1],['No','Yes'], inplace=True)\n",
    "    dfret['Music Product'].replace([0,1],['No','Yes'], inplace=True)\n",
    "    dfret['Education Product'].replace([0,1],['No','Yes'], inplace=True)\n",
    "    dfret['Use MyApp'].replace([0,1],['No','Yes'], inplace=True)\n",
    "    # Reverse internet service\n",
    "    dfret['Games Product'] = np.where(dfret['Internet Service'] == 0, 'No internet service' , dfret['Games Product'])\n",
    "    dfret['Video Product'] = np.where(dfret['Internet Service'] == 0, 'No internet service' , dfret['Video Product'])\n",
    "    dfret['Music Product'] = np.where(dfret['Internet Service'] == 0, 'No internet service' , dfret['Music Product'])\n",
    "    dfret['Education Product'] = np.where(dfret['Internet Service'] == 0, 'No internet service' , dfret['Education Product'])\n",
    "    dfret['Use MyApp'] = np.where(dfret['Internet Service'] == 0, 'No internet service' , dfret['Use MyApp'])\n",
    "    # Reverse others\n",
    "    dfret['Call Center'].replace([0,1],['No','Yes'], inplace=True)\n",
    "    dfret['Location'].replace([0,1],['Jakarta','Bandung'], inplace=True)\n",
    "    dfret['Churn Label'].replace([1,0],['Yes','No'], inplace=True)\n",
    "    dfret = dfret.drop([\"Debit\", \"Credit\", \"Pulsa\", \"Digital Wallet\",\"Low Device\", \"Mid Device\", \"High Device\",\"Internet Service\"],axis=1)\n",
    "    return dfret"
   ]
  },
  {
   "cell_type": "code",
   "execution_count": 7,
   "metadata": {},
   "outputs": [],
   "source": [
    "def encode(df):\n",
    "    df['Low Device'] = np.where(df['Device Class'] == 'Low End', 1, 0)\n",
    "    df['Mid Device'] = np.where(df['Device Class'] == 'Mid End', 1, 0)\n",
    "    df['High Device'] = np.where(df['Device Class'] == 'High End', 1, 0)\n",
    "    df = df.drop('Device Class', axis = 1)\n",
    "    df['Internet Service'] = np.where(df['Games Product'] == 'No internet service', 0 , 1)\n",
    "    df['Games Product'].replace(['No','Yes','No internet service'], [0,1,0], inplace=True)\n",
    "    df['Video Product'].replace(['No','Yes','No internet service'], [0,1,0], inplace=True)\n",
    "    df['Music Product'].replace(['No','Yes','No internet service'], [0,1,0], inplace=True)\n",
    "    df['Education Product'].replace(['No','Yes','No internet service'], [0,1,0], inplace=True)\n",
    "    df['Use MyApp'].replace(['No','Yes','No internet service'], [0,1,0], inplace=True)\n",
    "    df['Call Center'].replace(['No','Yes'], [0,1], inplace=True)\n",
    "    df['Location'].replace(['Jakarta','Bandung'], [0,1], inplace=True)\n",
    "    df['Churn Label'].replace(['Yes','No'], [1,0], inplace=True)\n",
    "    df['Digital Wallet'] = np.where(df['Payment Method'] == 'Digital Wallet', 1,0)\n",
    "    df['Pulsa'] = np.where(df['Payment Method'] == 'Pulsa', 1,0)\n",
    "    df['Debit'] = np.where(df['Payment Method'] == 'Debit', 1,0)\n",
    "    df['Credit'] = np.where(df['Payment Method'] == 'Credit', 1,0)\n",
    "    df = df.drop('Payment Method', axis=1)\n",
    "    return df"
   ]
  },
  {
   "cell_type": "markdown",
   "metadata": {},
   "source": [
    "## Prediction\n",
    "Masukan nilai pada ```x_months_to_be_predicted```\n",
    "untuk melakukan prediksi ```x``` bulan kedepan"
   ]
  },
  {
   "cell_type": "code",
   "execution_count": 8,
   "metadata": {},
   "outputs": [],
   "source": [
    "# MASUKAN DISINI\n",
    "x_months_to_be_predicted = 0"
   ]
  },
  {
   "cell_type": "code",
   "execution_count": 9,
   "metadata": {},
   "outputs": [],
   "source": [
    "df = pd.read_excel(filename,sheet_name='Sheet1')\n",
    "df_encoded = encode(df)"
   ]
  },
  {
   "cell_type": "code",
   "execution_count": 10,
   "metadata": {},
   "outputs": [
    {
     "name": "stdout",
     "output_type": "stream",
     "text": [
      "Model: \"sequential_3\"\n",
      "_________________________________________________________________\n",
      " Layer (type)                Output Shape              Param #   \n",
      "=================================================================\n",
      " normalization_3 (Normalizat  (None, 18)               37        \n",
      " ion)                                                            \n",
      "                                                                 \n",
      " dense_9 (Dense)             (None, 16)                304       \n",
      "                                                                 \n",
      " dense_10 (Dense)            (None, 10)                170       \n",
      "                                                                 \n",
      " dense_11 (Dense)            (None, 1)                 11        \n",
      "                                                                 \n",
      "=================================================================\n",
      "Total params: 522\n",
      "Trainable params: 485\n",
      "Non-trainable params: 37\n",
      "_________________________________________________________________\n"
     ]
    }
   ],
   "source": [
    "# Recreate the exact same model, including its weights and the optimizer\n",
    "model = tf.keras.models.load_model('churn_predictor.h5')\n",
    "# Show the model architecture\n",
    "model.summary()"
   ]
  },
  {
   "cell_type": "code",
   "execution_count": 12,
   "metadata": {},
   "outputs": [],
   "source": [
    "def predict_churn(df,added_months):\n",
    "        added = df['Tenure Months'] + added_months\n",
    "        df['Tenure Months'] = added\n",
    "        features = ['Tenure Months','Location','Low Device', 'Mid Device','High Device','Games Product', 'Music Product', 'Education Product', 'Video Product', \n",
    "                'Call Center', 'Use MyApp', 'Digital Wallet','Pulsa','Debit','Credit', 'Monthly Purchase (Thou. IDR)','CLTV (Predicted Thou. IDR)','Internet Service']\n",
    "        X = df[features]\n",
    "        y_pred = model.predict(X)\n",
    "        y_final = []\n",
    "        for pred in y_pred:\n",
    "                if pred > 0.5:\n",
    "                        y_final.append(1)\n",
    "                else:\n",
    "                        y_final.append(0)\n",
    "        df['Churn Label'] = y_final\n",
    "        return df        "
   ]
  },
  {
   "cell_type": "code",
   "execution_count": 15,
   "metadata": {},
   "outputs": [
    {
     "name": "stdout",
     "output_type": "stream",
     "text": [
      "221/221 [==============================] - 1s 3ms/step\n"
     ]
    }
   ],
   "source": [
    "prediction = predict_churn(df_encoded,x_months_to_be_predicted)"
   ]
  },
  {
   "cell_type": "markdown",
   "metadata": {},
   "source": [
    "## Menyimpan Hasil"
   ]
  },
  {
   "cell_type": "code",
   "execution_count": 18,
   "metadata": {},
   "outputs": [],
   "source": [
    "def save_output(df):\n",
    "        df = decode(df)\n",
    "        df.to_csv('predicted_months_'+str(x_months_to_be_predicted)+'.csv',index=False,sep=';')"
   ]
  },
  {
   "cell_type": "code",
   "execution_count": 19,
   "metadata": {},
   "outputs": [],
   "source": [
    "save_output(prediction)"
   ]
  }
 ],
 "metadata": {
  "kernelspec": {
   "display_name": "Python 3",
   "language": "python",
   "name": "python3"
  },
  "language_info": {
   "codemirror_mode": {
    "name": "ipython",
    "version": 3
   },
   "file_extension": ".py",
   "mimetype": "text/x-python",
   "name": "python",
   "nbconvert_exporter": "python",
   "pygments_lexer": "ipython3",
   "version": "3.8.0"
  }
 },
 "nbformat": 4,
 "nbformat_minor": 2
}
